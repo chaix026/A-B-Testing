{
 "cells": [
  {
   "cell_type": "markdown",
   "id": "571f2a70",
   "metadata": {
    "papermill": {
     "duration": 0.003399,
     "end_time": "2024-03-18T19:38:39.342996",
     "exception": false,
     "start_time": "2024-03-18T19:38:39.339597",
     "status": "completed"
    },
    "tags": []
   },
   "source": [
    "# Marketing A/B Testing Project\n",
    "\n",
    "## Introduction\n",
    "A/B testing, also known as split testing, is a common practice in marketing ad campaigns aimed at optimizing conversion rates and maximizing performance. It involves comparing two versions of a marketing asset, such as an advertisement or a landing page, by randomly assigning users to one of the versions and measuring their response. By analyzing the results, marketers can identify which version performs better in terms of predefined metrics, such as click-through rates, conversion rates, or user engagement. A/B testing provides valuable insights into the effectiveness of different marketing strategies, allowing marketers to make data-driven decisions and refine their campaigns to achieve the desired outcomes."
   ]
  },
  {
   "cell_type": "markdown",
   "id": "be036202",
   "metadata": {
    "papermill": {
     "duration": 0.002725,
     "end_time": "2024-03-18T19:38:39.348747",
     "exception": false,
     "start_time": "2024-03-18T19:38:39.346022",
     "status": "completed"
    },
    "tags": []
   },
   "source": [
    "# Data\n",
    "In this notebook, I demonstrate an A/B testing using Python for [an example ad campaign dataset on Kaggle](https://www.kaggle.com/datasets/faviovaz/marketing-ab-testing) where  the majority of the people will be exposed to ads (the experimental group). And a small portion of people (the control group) would instead see a Public Service Announcement (PSA) (or nothing) in the exact size and place the ad would normally be.\n",
    "\n",
    "The idea of the dataset is to analyze the groups, find if the ads were successful, how much the company can make from the ads, and if the difference between the groups is statistically significant.\n",
    "\n",
    "Data dictionary:\n",
    "\n",
    "- Index: Row index  \n",
    "- user id: User ID (unique)  \n",
    "- test group: If \"ad\" the person saw the advertisement, if \"psa\" they only saw the public service announcement  \n",
    "- converted: If a person bought the product then True, else is False  \n",
    "- total ads: Amount of ads seen by person  \n",
    "- most ads day: Day that the person saw the biggest amount of ads  \n",
    "- most ads hour: Hour of day that the person saw the biggest amount of ads  "
   ]
  },
  {
   "cell_type": "code",
   "execution_count": 1,
   "id": "b0619b73",
   "metadata": {
    "execution": {
     "iopub.execute_input": "2024-03-18T19:38:39.356636Z",
     "iopub.status.busy": "2024-03-18T19:38:39.356264Z",
     "iopub.status.idle": "2024-03-18T19:38:41.225617Z",
     "shell.execute_reply": "2024-03-18T19:38:41.224417Z"
    },
    "papermill": {
     "duration": 1.87671,
     "end_time": "2024-03-18T19:38:41.228221",
     "exception": false,
     "start_time": "2024-03-18T19:38:39.351511",
     "status": "completed"
    },
    "tags": []
   },
   "outputs": [],
   "source": [
    "#import libraries\n",
    "import numpy as np\n",
    "import pandas as pd\n",
    "from scipy.stats import ttest_ind\n",
    "\n",
    "import matplotlib.pyplot as plt"
   ]
  },
  {
   "cell_type": "code",
   "execution_count": 2,
   "id": "108ebdff",
   "metadata": {
    "execution": {
     "iopub.execute_input": "2024-03-18T19:38:41.236295Z",
     "iopub.status.busy": "2024-03-18T19:38:41.235775Z",
     "iopub.status.idle": "2024-03-18T19:38:41.990070Z",
     "shell.execute_reply": "2024-03-18T19:38:41.988950Z"
    },
    "papermill": {
     "duration": 0.760986,
     "end_time": "2024-03-18T19:38:41.992306",
     "exception": false,
     "start_time": "2024-03-18T19:38:41.231320",
     "status": "completed"
    },
    "tags": []
   },
   "outputs": [
    {
     "data": {
      "text/html": [
       "<div>\n",
       "<style scoped>\n",
       "    .dataframe tbody tr th:only-of-type {\n",
       "        vertical-align: middle;\n",
       "    }\n",
       "\n",
       "    .dataframe tbody tr th {\n",
       "        vertical-align: top;\n",
       "    }\n",
       "\n",
       "    .dataframe thead th {\n",
       "        text-align: right;\n",
       "    }\n",
       "</style>\n",
       "<table border=\"1\" class=\"dataframe\">\n",
       "  <thead>\n",
       "    <tr style=\"text-align: right;\">\n",
       "      <th></th>\n",
       "      <th>user id</th>\n",
       "      <th>test group</th>\n",
       "      <th>converted</th>\n",
       "      <th>total ads</th>\n",
       "      <th>most ads day</th>\n",
       "      <th>most ads hour</th>\n",
       "    </tr>\n",
       "  </thead>\n",
       "  <tbody>\n",
       "    <tr>\n",
       "      <th>0</th>\n",
       "      <td>1069124</td>\n",
       "      <td>ad</td>\n",
       "      <td>False</td>\n",
       "      <td>130</td>\n",
       "      <td>Monday</td>\n",
       "      <td>20</td>\n",
       "    </tr>\n",
       "    <tr>\n",
       "      <th>1</th>\n",
       "      <td>1119715</td>\n",
       "      <td>ad</td>\n",
       "      <td>False</td>\n",
       "      <td>93</td>\n",
       "      <td>Tuesday</td>\n",
       "      <td>22</td>\n",
       "    </tr>\n",
       "    <tr>\n",
       "      <th>2</th>\n",
       "      <td>1144181</td>\n",
       "      <td>ad</td>\n",
       "      <td>False</td>\n",
       "      <td>21</td>\n",
       "      <td>Tuesday</td>\n",
       "      <td>18</td>\n",
       "    </tr>\n",
       "    <tr>\n",
       "      <th>3</th>\n",
       "      <td>1435133</td>\n",
       "      <td>ad</td>\n",
       "      <td>False</td>\n",
       "      <td>355</td>\n",
       "      <td>Tuesday</td>\n",
       "      <td>10</td>\n",
       "    </tr>\n",
       "    <tr>\n",
       "      <th>4</th>\n",
       "      <td>1015700</td>\n",
       "      <td>ad</td>\n",
       "      <td>False</td>\n",
       "      <td>276</td>\n",
       "      <td>Friday</td>\n",
       "      <td>14</td>\n",
       "    </tr>\n",
       "    <tr>\n",
       "      <th>5</th>\n",
       "      <td>1137664</td>\n",
       "      <td>ad</td>\n",
       "      <td>False</td>\n",
       "      <td>734</td>\n",
       "      <td>Saturday</td>\n",
       "      <td>10</td>\n",
       "    </tr>\n",
       "    <tr>\n",
       "      <th>6</th>\n",
       "      <td>1116205</td>\n",
       "      <td>ad</td>\n",
       "      <td>False</td>\n",
       "      <td>264</td>\n",
       "      <td>Wednesday</td>\n",
       "      <td>13</td>\n",
       "    </tr>\n",
       "    <tr>\n",
       "      <th>7</th>\n",
       "      <td>1496843</td>\n",
       "      <td>ad</td>\n",
       "      <td>False</td>\n",
       "      <td>17</td>\n",
       "      <td>Sunday</td>\n",
       "      <td>18</td>\n",
       "    </tr>\n",
       "    <tr>\n",
       "      <th>8</th>\n",
       "      <td>1448851</td>\n",
       "      <td>ad</td>\n",
       "      <td>False</td>\n",
       "      <td>21</td>\n",
       "      <td>Tuesday</td>\n",
       "      <td>19</td>\n",
       "    </tr>\n",
       "    <tr>\n",
       "      <th>9</th>\n",
       "      <td>1446284</td>\n",
       "      <td>ad</td>\n",
       "      <td>False</td>\n",
       "      <td>142</td>\n",
       "      <td>Monday</td>\n",
       "      <td>14</td>\n",
       "    </tr>\n",
       "  </tbody>\n",
       "</table>\n",
       "</div>"
      ],
      "text/plain": [
       "   user id test group  converted  total ads most ads day  most ads hour\n",
       "0  1069124         ad      False        130       Monday             20\n",
       "1  1119715         ad      False         93      Tuesday             22\n",
       "2  1144181         ad      False         21      Tuesday             18\n",
       "3  1435133         ad      False        355      Tuesday             10\n",
       "4  1015700         ad      False        276       Friday             14\n",
       "5  1137664         ad      False        734     Saturday             10\n",
       "6  1116205         ad      False        264    Wednesday             13\n",
       "7  1496843         ad      False         17       Sunday             18\n",
       "8  1448851         ad      False         21      Tuesday             19\n",
       "9  1446284         ad      False        142       Monday             14"
      ]
     },
     "execution_count": 2,
     "metadata": {},
     "output_type": "execute_result"
    }
   ],
   "source": [
    "#load the dataset\n",
    "df = pd.read_csv('/kaggle/input/marketing-ab-testing/marketing_AB.csv', index_col=0)\n",
    "df.head(10)"
   ]
  },
  {
   "cell_type": "code",
   "execution_count": 3,
   "id": "216887ba",
   "metadata": {
    "execution": {
     "iopub.execute_input": "2024-03-18T19:38:42.000536Z",
     "iopub.status.busy": "2024-03-18T19:38:42.000158Z",
     "iopub.status.idle": "2024-03-18T19:38:42.077106Z",
     "shell.execute_reply": "2024-03-18T19:38:42.076027Z"
    },
    "papermill": {
     "duration": 0.083536,
     "end_time": "2024-03-18T19:38:42.079488",
     "exception": false,
     "start_time": "2024-03-18T19:38:41.995952",
     "status": "completed"
    },
    "tags": []
   },
   "outputs": [
    {
     "name": "stdout",
     "output_type": "stream",
     "text": [
      "<class 'pandas.core.frame.DataFrame'>\n",
      "Index: 588101 entries, 0 to 588100\n",
      "Data columns (total 6 columns):\n",
      " #   Column         Non-Null Count   Dtype \n",
      "---  ------         --------------   ----- \n",
      " 0   user id        588101 non-null  int64 \n",
      " 1   test group     588101 non-null  object\n",
      " 2   converted      588101 non-null  bool  \n",
      " 3   total ads      588101 non-null  int64 \n",
      " 4   most ads day   588101 non-null  object\n",
      " 5   most ads hour  588101 non-null  int64 \n",
      "dtypes: bool(1), int64(3), object(2)\n",
      "memory usage: 27.5+ MB\n"
     ]
    }
   ],
   "source": [
    "#show dataframe info\n",
    "df.info()"
   ]
  },
  {
   "cell_type": "markdown",
   "id": "4e765d05",
   "metadata": {
    "papermill": {
     "duration": 0.002955,
     "end_time": "2024-03-18T19:38:42.085730",
     "exception": false,
     "start_time": "2024-03-18T19:38:42.082775",
     "status": "completed"
    },
    "tags": []
   },
   "source": [
    "In this example, we have a dataset with 6 columns, where the main outcome variable`converted` has boolian values of \"True\" or \"False\""
   ]
  },
  {
   "cell_type": "markdown",
   "id": "b0d71694",
   "metadata": {
    "papermill": {
     "duration": 0.002825,
     "end_time": "2024-03-18T19:38:42.091679",
     "exception": false,
     "start_time": "2024-03-18T19:38:42.088854",
     "status": "completed"
    },
    "tags": []
   },
   "source": [
    "## Data Analysis\n",
    "\n",
    "### Contingency table"
   ]
  },
  {
   "cell_type": "code",
   "execution_count": 4,
   "id": "5e16dade",
   "metadata": {
    "execution": {
     "iopub.execute_input": "2024-03-18T19:38:42.100389Z",
     "iopub.status.busy": "2024-03-18T19:38:42.099742Z",
     "iopub.status.idle": "2024-03-18T19:38:42.365169Z",
     "shell.execute_reply": "2024-03-18T19:38:42.364028Z"
    },
    "papermill": {
     "duration": 0.273135,
     "end_time": "2024-03-18T19:38:42.368225",
     "exception": false,
     "start_time": "2024-03-18T19:38:42.095090",
     "status": "completed"
    },
    "tags": []
   },
   "outputs": [
    {
     "data": {
      "text/html": [
       "<div>\n",
       "<style scoped>\n",
       "    .dataframe tbody tr th:only-of-type {\n",
       "        vertical-align: middle;\n",
       "    }\n",
       "\n",
       "    .dataframe tbody tr th {\n",
       "        vertical-align: top;\n",
       "    }\n",
       "\n",
       "    .dataframe thead th {\n",
       "        text-align: right;\n",
       "    }\n",
       "</style>\n",
       "<table border=\"1\" class=\"dataframe\">\n",
       "  <thead>\n",
       "    <tr style=\"text-align: right;\">\n",
       "      <th>converted</th>\n",
       "      <th>False</th>\n",
       "      <th>True</th>\n",
       "      <th>All</th>\n",
       "    </tr>\n",
       "    <tr>\n",
       "      <th>test group</th>\n",
       "      <th></th>\n",
       "      <th></th>\n",
       "      <th></th>\n",
       "    </tr>\n",
       "  </thead>\n",
       "  <tbody>\n",
       "    <tr>\n",
       "      <th>ad</th>\n",
       "      <td>550154</td>\n",
       "      <td>14423</td>\n",
       "      <td>564577</td>\n",
       "    </tr>\n",
       "    <tr>\n",
       "      <th>psa</th>\n",
       "      <td>23104</td>\n",
       "      <td>420</td>\n",
       "      <td>23524</td>\n",
       "    </tr>\n",
       "    <tr>\n",
       "      <th>All</th>\n",
       "      <td>573258</td>\n",
       "      <td>14843</td>\n",
       "      <td>588101</td>\n",
       "    </tr>\n",
       "  </tbody>\n",
       "</table>\n",
       "</div>"
      ],
      "text/plain": [
       "converted    False   True     All\n",
       "test group                       \n",
       "ad          550154  14423  564577\n",
       "psa          23104    420   23524\n",
       "All         573258  14843  588101"
      ]
     },
     "execution_count": 4,
     "metadata": {},
     "output_type": "execute_result"
    }
   ],
   "source": [
    "# Create a summary table (contingency table) using pd.crosstab()\n",
    "summary_table = pd.crosstab(df['test group'], df['converted'], margins=True)\n",
    "summary_table"
   ]
  },
  {
   "cell_type": "markdown",
   "id": "b225ed57",
   "metadata": {
    "papermill": {
     "duration": 0.003198,
     "end_time": "2024-03-18T19:38:42.374890",
     "exception": false,
     "start_time": "2024-03-18T19:38:42.371692",
     "status": "completed"
    },
    "tags": []
   },
   "source": [
    "### t-test"
   ]
  },
  {
   "cell_type": "code",
   "execution_count": 5,
   "id": "c9ac246a",
   "metadata": {
    "execution": {
     "iopub.execute_input": "2024-03-18T19:38:42.383148Z",
     "iopub.status.busy": "2024-03-18T19:38:42.382780Z",
     "iopub.status.idle": "2024-03-18T19:38:42.570290Z",
     "shell.execute_reply": "2024-03-18T19:38:42.569238Z"
    },
    "papermill": {
     "duration": 0.194295,
     "end_time": "2024-03-18T19:38:42.572510",
     "exception": false,
     "start_time": "2024-03-18T19:38:42.378215",
     "status": "completed"
    },
    "tags": []
   },
   "outputs": [
    {
     "name": "stdout",
     "output_type": "stream",
     "text": [
      "T-test results:\n",
      "Group 'ad' convertion rate: 0.0255\n",
      "Group 'psa' convertion rate: 0.0179\n",
      "T-statistic: 7.37\n",
      "P-value: 1.70e-13\n"
     ]
    }
   ],
   "source": [
    "# Perform t-test\n",
    "group_A = df[df['test group'] == 'ad']['converted']\n",
    "group_B = df[df['test group'] == 'psa']['converted']\n",
    "t_statistic, p_value = ttest_ind(group_A, group_B)\n",
    "\n",
    "# Print t-test results\n",
    "print(\"T-test results:\")\n",
    "print(\"Group 'ad' convertion rate:\", round(sum(group_A) / group_A.shape[0], 4))\n",
    "print(\"Group 'psa' convertion rate:\", round(sum(group_B) / group_B.shape[0], 4))\n",
    "print(\"T-statistic: {:.2f}\".format(t_statistic))\n",
    "print(\"P-value: {:.2e}\".format(p_value))"
   ]
  }
 ],
 "metadata": {
  "kaggle": {
   "accelerator": "none",
   "dataSources": [
    {
     "datasetId": 1660669,
     "sourceId": 2724653,
     "sourceType": "datasetVersion"
    }
   ],
   "dockerImageVersionId": 30664,
   "isGpuEnabled": false,
   "isInternetEnabled": false,
   "language": "python",
   "sourceType": "notebook"
  },
  "kernelspec": {
   "display_name": "Python 3",
   "language": "python",
   "name": "python3"
  },
  "language_info": {
   "codemirror_mode": {
    "name": "ipython",
    "version": 3
   },
   "file_extension": ".py",
   "mimetype": "text/x-python",
   "name": "python",
   "nbconvert_exporter": "python",
   "pygments_lexer": "ipython3",
   "version": "3.10.13"
  },
  "papermill": {
   "default_parameters": {},
   "duration": 6.459998,
   "end_time": "2024-03-18T19:38:43.096070",
   "environment_variables": {},
   "exception": null,
   "input_path": "__notebook__.ipynb",
   "output_path": "__notebook__.ipynb",
   "parameters": {},
   "start_time": "2024-03-18T19:38:36.636072",
   "version": "2.5.0"
  }
 },
 "nbformat": 4,
 "nbformat_minor": 5
}
